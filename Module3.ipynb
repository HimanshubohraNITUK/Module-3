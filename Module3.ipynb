{
  "nbformat": 4,
  "nbformat_minor": 0,
  "metadata": {
    "colab": {
      "provenance": []
    },
    "kernelspec": {
      "name": "python3",
      "display_name": "Python 3"
    },
    "language_info": {
      "name": "python"
    }
  },
  "cells": [
    {
      "cell_type": "code",
      "execution_count": null,
      "metadata": {
        "id": "Z8k22FordEEU"
      },
      "outputs": [],
      "source": []
    },
    {
      "cell_type": "markdown",
      "source": [
        "Q1 -  Write a simple program in HTML  that displays the heading \"HTML defines the content and structure of\n",
        "your website” on the web browser ?\n",
        "- Explanation:\n",
        "HTML (HyperText Markup Language) is the standard language for creating web pages.\n",
        "\n",
        "This program:\n",
        "- Defines the document as an HTML file (<!DOCTYPE html>).\n",
        "- Contains a ( head ) section (metadata and title of the page).\n",
        "- Uses an ( h1 ) tag to display the heading inside the (body), which is the main content area.\n",
        "- \"HTML defines the content and structure of your website\" means that HTML is responsible for organizing the information on a webpage.\n",
        "\n",
        "- It specifies elements like headings, paragraphs, images, links, and tables."
      ],
      "metadata": {
        "id": "otk5SU51dLAp"
      }
    },
    {
      "cell_type": "code",
      "source": [
        "<!DOCTYPE html>\n",
        "<html>\n",
        "<head>\n",
        "    <title>HTML Basics</title>\n",
        "</head>\n",
        "<body>\n",
        "    <h1>HTML defines the content and structure of your website</h1>\n",
        "</body>\n",
        "</html>\n"
      ],
      "metadata": {
        "id": "tpYxqhDNgZag"
      },
      "execution_count": null,
      "outputs": []
    },
    {
      "cell_type": "markdown",
      "source": [
        "Q2 -  Explain the purpose of comments in HTML and provide an example of how to use comments in an HTML ?\n",
        "- Purpose of Comments in HTML\n",
        "- 1 Comments in HTML are used to add notes or explanations within the code that are not visible on the web page. They help:\n",
        "- 2 Improve Code Readability – Explain complex sections of the code.\n",
        "- 3 Temporarily Disable Code – Hide parts of the code without deleting it.\n",
        "Collaborate with Others – Help other developers understand the purpose of specific code sections.\n",
        "How to Use Comments in HTML\n",
        "- HTML comments start with <!-- and end with -->.\n",
        "- Everything inside the comment is ignored by the browser."
      ],
      "metadata": {
        "id": "ud53FwQZiJNJ"
      }
    },
    {
      "cell_type": "markdown",
      "source": [
        "Q3 -  Write an HTML program that includes a heading, a paragraph of text, a horizontal line, and a line break.Arrange these elements to create a simple web page layout ?\n",
        "-"
      ],
      "metadata": {
        "id": "ofGxc09mki8x"
      }
    },
    {
      "cell_type": "code",
      "source": [
        "Ans 3\n",
        "<!DOCTYPE html>\n",
        "<html lang=\"en\">\n",
        "<head>\n",
        "    <meta charset=\"UTF-8\">\n",
        "    <meta name=\"viewport\" content=\"width=device-width, initial-scale=1.0\">\n",
        "    <title>Simple Web Page</title>\n",
        "</head>\n",
        "<body>\n",
        "    <h1>Welcome to My Web Page</h1>\n",
        "    <hr> <!-- Horizontal line -->\n",
        "    <p> This is a simple paragraph that provides some information about the page.</p>\n",
        "    <br> <!-- Line break -->\n",
        "    <p>Thank you for visiting!</p>\n",
        "</body>\n",
        "</html>"
      ],
      "metadata": {
        "id": "rqVjdWz4nEYU"
      },
      "execution_count": null,
      "outputs": []
    },
    {
      "cell_type": "markdown",
      "source": [
        "Q4 - Write a short note on Tag and element with an example ?\n",
        "- Ans -\n",
        "Tag\n",
        "A tag is a keyword enclosed in angle brackets (<>) that defines an HTML element. Tags usually come in pairs: an opening tag (e.g., < p >) and a closing tag (e.g., </ p >), though some tags are self-closing (e.g., < br >).\n",
        "Element\n",
        "An element consists of an opening tag, content (if applicable), and a closing tag. It represents a complete structure in an HTML document."
      ],
      "metadata": {
        "id": "cS4-KDLtnOdt"
      }
    },
    {
      "cell_type": "markdown",
      "source": [
        "Q5 - What is the DOCTYPE Declaration in HTML?\n",
        "- The DOCTYPE declaration (<!DOCTYPE html>) is an instruction to the web browser about the version of HTML that the document is written in. It ensures that the browser renders the page correctly by following standard rules.\n",
        "\n",
        "Key Points:\n",
        "- It must be the first line in an HTML document.\n",
        "\n",
        "- It is not case-sensitive but is usually written in uppercase.\n",
        "\n",
        "- It does not have a closing tag."
      ],
      "metadata": {
        "id": "0zJ5jxvlnoec"
      }
    }
  ]
}